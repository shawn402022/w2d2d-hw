{
 "cells": [
  {
   "cell_type": "markdown",
   "id": "1b7b1e57",
   "metadata": {},
   "source": [
    "# Exercise 1 <br>\n",
    "<p>Given a list as a parameter,write a function that returns a list of numbers that are less than ten</b></i></p><br>\n",
    "<p> For example: Say your input parameter to the function is [1,11,14,5,8,9]...Your output should [1,5,8,9]</p>1"
   ]
  },
  {
   "cell_type": "code",
   "execution_count": 1,
   "id": "49872727",
   "metadata": {},
   "outputs": [
    {
     "name": "stdout",
     "output_type": "stream",
     "text": [
      "[1, 5, 8, 9]\n"
     ]
    }
   ],
   "source": [
    "# Use the following list - [1,11,14,5,8,9]\n",
    "\n",
    "l_1 = [1,11,14,5,8,9]\n",
    "# l_2 = []\n",
    "\n",
    "# for num in l_1:\n",
    "#     if num <= 10:\n",
    "#         l_2.append(num)\n",
    "# print(l_2)\n",
    "\n",
    "awnser = [num for num in l_1 if num <= 10]\n",
    "print(awnser)\n",
    "        "
   ]
  },
  {
   "cell_type": "markdown",
   "id": "042df1a8",
   "metadata": {},
   "source": [
    "# Exercise 2\n",
    "Write a function that takes in two lists and returns the two lists merged together and sorted\n",
    "Hint: You can use the .sort() method"
   ]
  },
  {
   "cell_type": "code",
   "execution_count": null,
   "id": "282c82e1",
   "metadata": {},
   "outputs": [],
   "source": [
    "l_1 = [1,2,3,4,5,6]\n",
    "l_2 = [3,4,5,6,7,8,10]\n",
    "# newList = newList.sort()\n",
    "\n",
    "def sortList(a,b):\n",
    "#     mergList = a + b\n",
    "#     sList = mergList.sort()\n",
    "    return a+b\n",
    "print(sortList(l_1,l_2))\n",
    "    \n",
    "    \n",
    "\n"
   ]
  }
 ],
 "metadata": {
  "kernelspec": {
   "display_name": "Python 3 (ipykernel)",
   "language": "python",
   "name": "python3"
  },
  "language_info": {
   "codemirror_mode": {
    "name": "ipython",
    "version": 3
   },
   "file_extension": ".py",
   "mimetype": "text/x-python",
   "name": "python",
   "nbconvert_exporter": "python",
   "pygments_lexer": "ipython3",
   "version": "3.9.12"
  }
 },
 "nbformat": 4,
 "nbformat_minor": 5
}
